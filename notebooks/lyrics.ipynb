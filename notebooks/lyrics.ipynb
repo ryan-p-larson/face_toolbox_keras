{
 "metadata": {
  "language_info": {
   "codemirror_mode": {
    "name": "ipython",
    "version": 3
   },
   "file_extension": ".py",
   "mimetype": "text/x-python",
   "name": "python",
   "nbconvert_exporter": "python",
   "pygments_lexer": "ipython3",
   "version": "3.8.5-final"
  },
  "orig_nbformat": 2,
  "kernelspec": {
   "name": "python_defaultSpec_1599539127373",
   "display_name": "Python 3.8.5 64-bit"
  }
 },
 "nbformat": 4,
 "nbformat_minor": 2,
 "cells": [
  {
   "cell_type": "code",
   "execution_count": 1,
   "metadata": {
    "tags": []
   },
   "outputs": [
    {
     "output_type": "stream",
     "name": "stdout",
     "text": "/home/user/tmp/face_toolbox_keras\n"
    }
   ],
   "source": [
    "%load_ext autoreload\n",
    "%autoreload 2\n",
    "%cd .."
   ]
  },
  {
   "cell_type": "code",
   "execution_count": 21,
   "metadata": {},
   "outputs": [],
   "source": [
    "import json\n",
    "from os.path import join\n",
    "from pprint import pprint\n",
    "\n",
    "\n",
    "# lyrics_file = join('./', 'assets', 'lyrics.json')\n",
    "from face_toolbox.audio import lyrics"
   ]
  },
  {
   "cell_type": "code",
   "execution_count": 22,
   "metadata": {},
   "outputs": [],
   "source": [
    "lrc = lyrics.Lyrics()"
   ]
  },
  {
   "cell_type": "code",
   "execution_count": 24,
   "metadata": {
    "tags": []
   },
   "outputs": [
    {
     "output_type": "stream",
     "name": "stdout",
     "text": "0 - it, @\t1.0986526077097492 for 1098 ms\t or 65 frames\n1 - it, @\t1.595456437389767 for 466 ms\t or 28 frames\n2 - it, @\t2.062280725623577 for 501 ms\t or 30 frames\n3 - it @\t2.563367346938768 for 472 ms\t or 28 frames\n4 - it, @\t3.0362789773242564 for 452 ms\t or 27 frames\n5 - it, @\t3.4886962063492013 for 956 ms\t or 57 frames\n6 - it @\t4.445482882086166 for 466 ms\t or 27 frames\n7 - it, @\t4.911597427702184 for 464 ms\t or 27 frames\n8 - it, @\t5.376375775752655 for 478 ms\t or 28 frames\n9 - it, @\t5.855299551787272 for 472 ms\t or 28 frames\n10 - it @\t6.328161001542969 for 464 ms\t or 27 frames\n11 - it, @\t6.792745094336091 for 456 ms\t or 27 frames\n12 - it, @\t7.249030031917824 for 923 ms\t or 55 frames\n13 - it @\t8.172568295003929 for 510 ms\t or 30 frames\n14 - it, @\t8.682824993701185 for 492 ms\t or 29 frames\n15 - it, @\t9.175071907281435 for 431 ms\t or 25 frames\n16 - it, @\t9.607043688586554 for 498 ms\t or 29 frames\n17 - it @\t10.105318115394315 for 438 ms\t or 26 frames\n18 - it, @\t10.543543159486028 for 470 ms\t or 28 frames\n19 - it, @\t11.01388269085413 for 973 ms\t or 58 frames\n20 - it @\t11.986924565381718 for 489 ms\t or 29 frames\n21 - it, @\t12.476004535147402 for 524 ms\t or 31 frames\n22 - it, @\t13.000649735449745 for 402 ms\t or 24 frames\n23 - it, @\t13.402809674981112 for 475 ms\t or 28 frames\n24 - it @\t13.878460770975064 for 821 ms\t or 49 frames\n25 - it, @\t14.700136913750349 for 1077 ms\t or 64 frames\n26 - it @\t15.777965242654693 for 443 ms\t or 26 frames\n27 - it, @\t16.221626708121427 for 497 ms\t or 29 frames\n28 - it, @\t16.71923675508217 for 472 ms\t or 28 frames\n29 - it, @\t17.191544596265256 for 468 ms\t or 28 frames\n30 - it @\t17.659635403152063 for 445 ms\t or 26 frames\n31 - it, @\t18.104987973041098 for 476 ms\t or 28 frames\n32 - it, @\t18.58113758755357 for 929 ms\t or 55 frames\n33 - it @\t19.5110537150416 for 516 ms\t or 30 frames\n34 - it, @\t20.02766888384987 for 455 ms\t or 27 frames\n35 - it, @\t20.483141194255516 for 503 ms\t or 30 frames\n36 - it, @\t20.986788460569453 for 420 ms\t or 25 frames\n37 - it @\t21.407224439405436 for 498 ms\t or 29 frames\n38 - it, @\t21.906052878018333 for 461 ms\t or 27 frames\n39 - it, @\t22.367497431471243 for 924 ms\t or 55 frames\n40 - it @\t23.29246511744666 for 506 ms\t or 30 frames\n41 - it, @\t23.798717710049324 for 417 ms\t or 25 frames\n42 - it, @\t24.2157951840161 for 469 ms\t or 28 frames\n43 - it, @\t24.685494582268397 for 441 ms\t or 26 frames\n44 - it @\t25.12656261004496 for 428 ms\t or 25 frames\n45 - it, @\t25.555496780216586 for 580 ms\t or 34 frames\n46 - it, @\t26.135518180856085 for 917 ms\t or 55 frames\n47 - it @\t27.05316397888274 for 340 ms\t or 20 frames\n48 - it, @\t27.39391377907909 for 501 ms\t or 30 frames\n49 - it, @\t27.89577988599015 for 501 ms\t or 30 frames\n50 - it, @\t28.397645992901214 for 528 ms\t or 31 frames\n51 - it @\t28.926278292180868 for 431 ms\t or 25 frames\n52 - it, @\t29.357601468778004 for 414 ms\t or 24 frames\n53 - it, @\t29.771914099798394 for 7399 ms\t or 443 frames\n54 - it @\t30.600539361839175 for 7399 ms\t or 443 frames\n"
    }
   ],
   "source": [
    "for idx, t in enumerate(lrc.beat_times):\n",
    "    print(f'{idx} - {lrc.words[idx]} @\\t{t} for {int(lrc.beat_delta_sec(idx) * 1000)} ms\\t or {lrc.beat_delta_frames(idx)} frames')"
   ]
  },
  {
   "cell_type": "code",
   "execution_count": 17,
   "metadata": {
    "tags": []
   },
   "outputs": [
    {
     "output_type": "stream",
     "name": "stdout",
     "text": "word @ 0=Buy\t sec=0.7421102040816329, frame #=44, duration_sec=0.7421102040816329, duration_frame_#=12\nword @ 3=it,\t sec=1.595456437389767, frame #=95, duration_sec=0.2451898211136294, duration_frame_#=4\nword @ 6=fix\t sec=2.307470546737207, frame #=138, duration_sec=0.2558968002015609, duration_frame_#=4\nword @ 9=it,\t sec=3.0362789773242564, frame #=182, duration_sec=0.18291509977324294, duration_frame_#=3\nword @ 12=mail\t sec=3.697587414965982, frame #=221, duration_sec=0.25651407482993305, duration_frame_#=4\nword @ 15=it\t sec=4.445482882086166, frame #=266, duration_sec=0.17209172108843696, duration_frame_#=2\nword @ 18=point\t sec=5.120747684324897, frame #=307, duration_sec=0.25562809142775844, duration_frame_#=4\n"
    }
   ],
   "source": [
    "for i in range(0, 20, 3):\n",
    "    info(i)"
   ]
  },
  {
   "cell_type": "code",
   "execution_count": null,
   "metadata": {},
   "outputs": [],
   "source": []
  },
  {
   "cell_type": "code",
   "execution_count": null,
   "metadata": {
    "tags": []
   },
   "outputs": [],
   "source": [
    "with open(lyrics_file) as f:\n",
    "  lyrics_dict = json.load(f)\n",
    "\n",
    "print(lyrics_dict.keys())"
   ]
  },
  {
   "cell_type": "code",
   "execution_count": null,
   "metadata": {
    "tags": []
   },
   "outputs": [],
   "source": [
    "for idx, line in enumerate(lyrics_dict['lines']):\n",
    "    print(f\"{line}, {lyrics_dict['wordTimings'][idx]}\")"
   ]
  },
  {
   "cell_type": "code",
   "execution_count": null,
   "metadata": {
    "tags": []
   },
   "outputs": [],
   "source": [
    "### What we want to do is get a list of [idx, word, time] entries so we know the exact beats\n",
    "\n",
    "# First, we need a list of all the words. \n",
    "# simplest case, split on spaces\n",
    "all_words = [w for l in lyrics_dict['lines'] for w in l.split()]\n",
    "\n",
    "# all timings\n",
    "all_times = [t for l in lyrics_dict['wordTimings'] for t in l]\n",
    "\n",
    "# indices\n",
    "all_indices = [i for i in range(0, len(all_times))]\n",
    "\n",
    "all_beats = list(zip(all_indices, all_words, all_times))\n"
   ]
  },
  {
   "cell_type": "code",
   "execution_count": null,
   "metadata": {
    "tags": []
   },
   "outputs": [],
   "source": [
    "all_it_beats = [i for i in all_beats if (i[1].lower().startswith('it'))]\n",
    "print(len(all_it_beats))\n",
    "pprint(all_it_beats)"
   ]
  },
  {
   "cell_type": "code",
   "execution_count": null,
   "metadata": {},
   "outputs": [],
   "source": [
    "class LyricsIterator:\n",
    "    def __init__(self, data):\n",
    "        self._idx = 0\n",
    "        self._data = data\n",
    "    \n",
    "    def __next__(self):\n",
    "        if (self._idx < len(self._data.emph)):\n",
    "            res = self._data.emph[self._idx]\n",
    "            self._idx += 1\n",
    "            return res\n",
    "        raise StopIteration\n",
    "\n",
    "class Lyrics:\n",
    "    def __init__(self, path: str):\n",
    "        with open(path) as f:\n",
    "            data = json.load(f)\n",
    "        self.lines       = data['lines']\n",
    "        self.wordTimings = data['wordTimings']\n",
    "        self.markers     = data['markers']\n",
    "\n",
    "        all_words = [w for l in self.lines for w in l.split()]\n",
    "        all_times = [t for l in self.wordTimings for t in l]\n",
    "        all_beats = list(zip(all_words, all_times))\n",
    "        self.emph = [i for i in all_beats if (i[0].lower().startswith('it'))]\n",
    "\n",
    "\n",
    "    def __iter__(self):\n",
    "        return LyricsIterator(self)\n",
    "\n",
    "    @property\n",
    "    def words(self):\n",
    "        return [w for l in self.lines for w in l.split()]\n",
    "\n",
    "    @property\n",
    "    def beats(self):\n",
    "        return [t for l in self.wordTimings for t in l]\n",
    "\n",
    "    def beat_delta_ms(self, idx: int) -> float:\n",
    "        if (idx < 0 | idx > (len(self.emph) - 1)):\n",
    "            raise ValueError(f\"index {idx} out of bounds\")\n",
    "        elif (idx == 0):\n",
    "            return self.emph[idx][1]\n",
    "        elif (idx+1 > len(self.emph)-1):\n",
    "            return 4.0\n",
    "        else:\n",
    "            return self.emph[idx+1][1] - self.emph[idx][1]\n",
    "\n",
    "    def beat_delta_frames(self, idx: int):\n",
    "        beatΔ = self.beat_delta_ms(idx)\n",
    "        frames = int(round(beatΔ * 1000) / 16.6666667)\n",
    "        return frames\n",
    "\n",
    "\n",
    "lrc = Lyrics(lyrics_file)"
   ]
  },
  {
   "cell_type": "code",
   "execution_count": null,
   "metadata": {
    "tags": []
   },
   "outputs": [],
   "source": [
    "for idx, (w, t) in enumerate(lrc):\n",
    "    print(w, t, lrc.beat_delta_ms(idx), lrc.beat_delta_frames(idx))"
   ]
  },
  {
   "cell_type": "code",
   "execution_count": null,
   "metadata": {},
   "outputs": [],
   "source": []
  },
  {
   "cell_type": "code",
   "execution_count": null,
   "metadata": {},
   "outputs": [],
   "source": []
  },
  {
   "cell_type": "code",
   "execution_count": null,
   "metadata": {},
   "outputs": [],
   "source": [
    "t = [1]"
   ]
  },
  {
   "cell_type": "code",
   "execution_count": null,
   "metadata": {},
   "outputs": [],
   "source": [
    "t[2]"
   ]
  },
  {
   "cell_type": "code",
   "execution_count": null,
   "metadata": {},
   "outputs": [],
   "source": []
  },
  {
   "cell_type": "code",
   "execution_count": null,
   "metadata": {},
   "outputs": [],
   "source": []
  },
  {
   "cell_type": "code",
   "execution_count": null,
   "metadata": {},
   "outputs": [],
   "source": [
    "import lyricsgenius\n",
    "genius = lyricsgenius.Genius('yTmTz2W6YUuDwB65FLxq-3ok3zTDJfaGXbiSmTiWH9QzhR6nzgneR_GtEdvTX4NZ')\n",
    "song_id     = search[0]['result']['id']\n",
    "song        = genius.search_song(song_id)\n",
    "annotations = genius.get_song_annotations(song_id)\n",
    "print(annotations[0][1])\n",
    "for idx, anot in enumerate(annotations):\n",
    "    print(f'{idx}\\n{anot[0]}\\n')"
   ]
  }
 ]
}