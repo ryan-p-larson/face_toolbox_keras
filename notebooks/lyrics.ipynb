{
 "metadata": {
  "language_info": {
   "codemirror_mode": {
    "name": "ipython",
    "version": 3
   },
   "file_extension": ".py",
   "mimetype": "text/x-python",
   "name": "python",
   "nbconvert_exporter": "python",
   "pygments_lexer": "ipython3",
   "version": "3.8.5-final"
  },
  "orig_nbformat": 2,
  "kernelspec": {
   "name": "python_defaultSpec_1599446347173",
   "display_name": "Python 3.8.5 64-bit"
  }
 },
 "nbformat": 4,
 "nbformat_minor": 2,
 "cells": [
  {
   "cell_type": "code",
   "execution_count": 1,
   "metadata": {
    "tags": []
   },
   "outputs": [
    {
     "output_type": "stream",
     "name": "stdout",
     "text": "/home/user/tmp/face_toolbox_keras\n"
    }
   ],
   "source": [
    "%cd .."
   ]
  },
  {
   "cell_type": "code",
   "execution_count": 2,
   "metadata": {},
   "outputs": [],
   "source": [
    "import json\n",
    "from os.path import join\n",
    "from pprint import pprint\n",
    "\n",
    "\n",
    "# lyrics_file = join('./', 'assets', 'lyrics.json')\n",
    "from face_toolbox.audio import lyrics"
   ]
  },
  {
   "cell_type": "code",
   "execution_count": 16,
   "metadata": {},
   "outputs": [],
   "source": [
    "lrc = lyrics.Lyrics()\n",
    "info = lambda i: print(f'word @ {i}={lrc.words[i]}\\t sec={lrc.beat_times[i]}, frame #={lrc.beat_frames[i]}, duration_sec={lrc.beat_delta_sec(i)}, duration_frame_#={lrc.beat_delta_frames(i)}')"
   ]
  },
  {
   "cell_type": "code",
   "execution_count": 17,
   "metadata": {
    "tags": []
   },
   "outputs": [
    {
     "output_type": "stream",
     "name": "stdout",
     "text": "word @ 0=Buy\t sec=0.7421102040816329, frame #=44, duration_sec=0.7421102040816329, duration_frame_#=12\nword @ 3=it,\t sec=1.595456437389767, frame #=95, duration_sec=0.2451898211136294, duration_frame_#=4\nword @ 6=fix\t sec=2.307470546737207, frame #=138, duration_sec=0.2558968002015609, duration_frame_#=4\nword @ 9=it,\t sec=3.0362789773242564, frame #=182, duration_sec=0.18291509977324294, duration_frame_#=3\nword @ 12=mail\t sec=3.697587414965982, frame #=221, duration_sec=0.25651407482993305, duration_frame_#=4\nword @ 15=it\t sec=4.445482882086166, frame #=266, duration_sec=0.17209172108843696, duration_frame_#=2\nword @ 18=point\t sec=5.120747684324897, frame #=307, duration_sec=0.25562809142775844, duration_frame_#=4\n"
    }
   ],
   "source": [
    "for i in range(0, 20, 3):\n",
    "    info(i)"
   ]
  },
  {
   "cell_type": "code",
   "execution_count": null,
   "metadata": {},
   "outputs": [],
   "source": []
  },
  {
   "cell_type": "code",
   "execution_count": null,
   "metadata": {
    "tags": []
   },
   "outputs": [],
   "source": [
    "with open(lyrics_file) as f:\n",
    "  lyrics_dict = json.load(f)\n",
    "\n",
    "print(lyrics_dict.keys())"
   ]
  },
  {
   "cell_type": "code",
   "execution_count": null,
   "metadata": {
    "tags": []
   },
   "outputs": [],
   "source": [
    "for idx, line in enumerate(lyrics_dict['lines']):\n",
    "    print(f\"{line}, {lyrics_dict['wordTimings'][idx]}\")"
   ]
  },
  {
   "cell_type": "code",
   "execution_count": null,
   "metadata": {
    "tags": []
   },
   "outputs": [],
   "source": [
    "### What we want to do is get a list of [idx, word, time] entries so we know the exact beats\n",
    "\n",
    "# First, we need a list of all the words. \n",
    "# simplest case, split on spaces\n",
    "all_words = [w for l in lyrics_dict['lines'] for w in l.split()]\n",
    "\n",
    "# all timings\n",
    "all_times = [t for l in lyrics_dict['wordTimings'] for t in l]\n",
    "\n",
    "# indices\n",
    "all_indices = [i for i in range(0, len(all_times))]\n",
    "\n",
    "all_beats = list(zip(all_indices, all_words, all_times))\n"
   ]
  },
  {
   "cell_type": "code",
   "execution_count": null,
   "metadata": {
    "tags": []
   },
   "outputs": [],
   "source": [
    "all_it_beats = [i for i in all_beats if (i[1].lower().startswith('it'))]\n",
    "print(len(all_it_beats))\n",
    "pprint(all_it_beats)"
   ]
  },
  {
   "cell_type": "code",
   "execution_count": null,
   "metadata": {},
   "outputs": [],
   "source": [
    "class LyricsIterator:\n",
    "    def __init__(self, data):\n",
    "        self._idx = 0\n",
    "        self._data = data\n",
    "    \n",
    "    def __next__(self):\n",
    "        if (self._idx < len(self._data.emph)):\n",
    "            res = self._data.emph[self._idx]\n",
    "            self._idx += 1\n",
    "            return res\n",
    "        raise StopIteration\n",
    "\n",
    "class Lyrics:\n",
    "    def __init__(self, path: str):\n",
    "        with open(path) as f:\n",
    "            data = json.load(f)\n",
    "        self.lines       = data['lines']\n",
    "        self.wordTimings = data['wordTimings']\n",
    "        self.markers     = data['markers']\n",
    "\n",
    "        all_words = [w for l in self.lines for w in l.split()]\n",
    "        all_times = [t for l in self.wordTimings for t in l]\n",
    "        all_beats = list(zip(all_words, all_times))\n",
    "        self.emph = [i for i in all_beats if (i[0].lower().startswith('it'))]\n",
    "\n",
    "\n",
    "    def __iter__(self):\n",
    "        return LyricsIterator(self)\n",
    "\n",
    "    @property\n",
    "    def words(self):\n",
    "        return [w for l in self.lines for w in l.split()]\n",
    "\n",
    "    @property\n",
    "    def beats(self):\n",
    "        return [t for l in self.wordTimings for t in l]\n",
    "\n",
    "    def beat_delta_ms(self, idx: int) -> float:\n",
    "        if (idx < 0 | idx > (len(self.emph) - 1)):\n",
    "            raise ValueError(f\"index {idx} out of bounds\")\n",
    "        elif (idx == 0):\n",
    "            return self.emph[idx][1]\n",
    "        elif (idx+1 > len(self.emph)-1):\n",
    "            return 4.0\n",
    "        else:\n",
    "            return self.emph[idx+1][1] - self.emph[idx][1]\n",
    "\n",
    "    def beat_delta_frames(self, idx: int):\n",
    "        beatΔ = self.beat_delta_ms(idx)\n",
    "        frames = int(round(beatΔ * 1000) / 16.6666667)\n",
    "        return frames\n",
    "\n",
    "\n",
    "lrc = Lyrics(lyrics_file)"
   ]
  },
  {
   "cell_type": "code",
   "execution_count": null,
   "metadata": {
    "tags": []
   },
   "outputs": [],
   "source": [
    "for idx, (w, t) in enumerate(lrc):\n",
    "    print(w, t, lrc.beat_delta_ms(idx), lrc.beat_delta_frames(idx))"
   ]
  },
  {
   "cell_type": "code",
   "execution_count": null,
   "metadata": {},
   "outputs": [],
   "source": []
  },
  {
   "cell_type": "code",
   "execution_count": null,
   "metadata": {},
   "outputs": [],
   "source": []
  },
  {
   "cell_type": "code",
   "execution_count": null,
   "metadata": {},
   "outputs": [],
   "source": [
    "t = [1]"
   ]
  },
  {
   "cell_type": "code",
   "execution_count": null,
   "metadata": {},
   "outputs": [],
   "source": [
    "t[2]"
   ]
  },
  {
   "cell_type": "code",
   "execution_count": null,
   "metadata": {},
   "outputs": [],
   "source": []
  },
  {
   "cell_type": "code",
   "execution_count": null,
   "metadata": {},
   "outputs": [],
   "source": []
  },
  {
   "cell_type": "code",
   "execution_count": null,
   "metadata": {},
   "outputs": [],
   "source": [
    "import lyricsgenius\n",
    "genius = lyricsgenius.Genius('...')\n",
    "song_id     = search[0]['result']['id']\n",
    "song        = genius.search_song(song_id)\n",
    "annotations = genius.get_song_annotations(song_id)\n",
    "print(annotations[0][1])\n",
    "for idx, anot in enumerate(annotations):\n",
    "    print(f'{idx}\\n{anot[0]}\\n')"
   ]
  }
 ]
}